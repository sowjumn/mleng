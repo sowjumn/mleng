{
 "cells": [
  {
   "cell_type": "code",
   "execution_count": 2,
   "id": "3bcee706-999d-49b4-9147-c2ff666ebb85",
   "metadata": {},
   "outputs": [
    {
     "name": "stdout",
     "output_type": "stream",
     "text": [
      "Hello World\n"
     ]
    }
   ],
   "source": [
    "print('Hello World')"
   ]
  },
  {
   "cell_type": "code",
   "execution_count": 3,
   "id": "64b0a458-9555-4498-ac70-9c58882004a2",
   "metadata": {},
   "outputs": [
    {
     "name": "stdout",
     "output_type": "stream",
     "text": [
      "Use shift Enter\n"
     ]
    }
   ],
   "source": [
    "print('Use shift Enter')\n"
   ]
  },
  {
   "cell_type": "raw",
   "id": "a987550b-e2e4-44ae-a104-683219ee4ade",
   "metadata": {},
   "source": [
    "print('Use b to enter below')"
   ]
  }
 ],
 "metadata": {
  "kernelspec": {
   "display_name": "Python 3 (ipykernel)",
   "language": "python",
   "name": "python3"
  },
  "language_info": {
   "codemirror_mode": {
    "name": "ipython",
    "version": 3
   },
   "file_extension": ".py",
   "mimetype": "text/x-python",
   "name": "python",
   "nbconvert_exporter": "python",
   "pygments_lexer": "ipython3",
   "version": "3.11.5"
  }
 },
 "nbformat": 4,
 "nbformat_minor": 5
}
