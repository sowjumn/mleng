{
 "cells": [
  {
   "cell_type": "code",
   "execution_count": 1,
   "id": "70713a8a-7b59-4e33-95f1-55959d104b55",
   "metadata": {},
   "outputs": [],
   "source": [
    "import pandas as pd\n",
    "import matplotlib as mpl"
   ]
  },
  {
   "cell_type": "code",
   "execution_count": 2,
   "id": "8752afe9-608e-4c84-a437-4590ba5409a4",
   "metadata": {},
   "outputs": [],
   "source": [
    "import matplotlib.pyplot as plt"
   ]
  },
  {
   "cell_type": "code",
   "execution_count": 3,
   "id": "59600dc0-ea9c-4087-9a11-9a5597c22500",
   "metadata": {},
   "outputs": [
    {
     "name": "stderr",
     "output_type": "stream",
     "text": [
      "/Users/sowjanya/.pyenv/versions/3.10.12/lib/python3.10/site-packages/openpyxl/worksheet/_reader.py:329: UserWarning: Unknown extension is not supported and will be removed\n",
      "  warn(msg)\n",
      "/Users/sowjanya/.pyenv/versions/3.10.12/lib/python3.10/site-packages/openpyxl/worksheet/_reader.py:329: UserWarning: Unknown extension is not supported and will be removed\n",
      "  warn(msg)\n",
      "/Users/sowjanya/.pyenv/versions/3.10.12/lib/python3.10/site-packages/openpyxl/worksheet/_reader.py:329: UserWarning: Unknown extension is not supported and will be removed\n",
      "  warn(msg)\n"
     ]
    },
    {
     "data": {
      "text/html": [
       "<div>\n",
       "<style scoped>\n",
       "    .dataframe tbody tr th:only-of-type {\n",
       "        vertical-align: middle;\n",
       "    }\n",
       "\n",
       "    .dataframe tbody tr th {\n",
       "        vertical-align: top;\n",
       "    }\n",
       "\n",
       "    .dataframe thead th {\n",
       "        text-align: right;\n",
       "    }\n",
       "</style>\n",
       "<table border=\"1\" class=\"dataframe\">\n",
       "  <thead>\n",
       "    <tr style=\"text-align: right;\">\n",
       "      <th></th>\n",
       "      <th>name</th>\n",
       "      <th>category_0</th>\n",
       "      <th>category_1</th>\n",
       "      <th>take_out</th>\n",
       "      <th>review_count</th>\n",
       "      <th>stars</th>\n",
       "      <th>city_id</th>\n",
       "      <th>state_id</th>\n",
       "      <th>id_x</th>\n",
       "      <th>state</th>\n",
       "      <th>id_y</th>\n",
       "      <th>city</th>\n",
       "    </tr>\n",
       "  </thead>\n",
       "  <tbody>\n",
       "    <tr>\n",
       "      <th>95</th>\n",
       "      <td>Aamco Transmissions</td>\n",
       "      <td>Auto Repair</td>\n",
       "      <td>Automotive</td>\n",
       "      <td>False</td>\n",
       "      <td>21</td>\n",
       "      <td>4.5</td>\n",
       "      <td>8</td>\n",
       "      <td>1</td>\n",
       "      <td>1</td>\n",
       "      <td>PA</td>\n",
       "      <td>8</td>\n",
       "      <td>Pittsburgh</td>\n",
       "    </tr>\n",
       "    <tr>\n",
       "      <th>96</th>\n",
       "      <td>Animal Rescue League Shelter &amp; Wildlife Center</td>\n",
       "      <td>Animal Shelters</td>\n",
       "      <td>Veterinarians</td>\n",
       "      <td>False</td>\n",
       "      <td>43</td>\n",
       "      <td>4.0</td>\n",
       "      <td>8</td>\n",
       "      <td>1</td>\n",
       "      <td>1</td>\n",
       "      <td>PA</td>\n",
       "      <td>8</td>\n",
       "      <td>Pittsburgh</td>\n",
       "    </tr>\n",
       "    <tr>\n",
       "      <th>97</th>\n",
       "      <td>Aracri's Greentree Inn</td>\n",
       "      <td>Italian</td>\n",
       "      <td>American (New)</td>\n",
       "      <td>True</td>\n",
       "      <td>15</td>\n",
       "      <td>3.5</td>\n",
       "      <td>8</td>\n",
       "      <td>1</td>\n",
       "      <td>1</td>\n",
       "      <td>PA</td>\n",
       "      <td>8</td>\n",
       "      <td>Pittsburgh</td>\n",
       "    </tr>\n",
       "    <tr>\n",
       "      <th>98</th>\n",
       "      <td>Atch-Mont Real Estate</td>\n",
       "      <td>Real Estate Services</td>\n",
       "      <td>Property Management</td>\n",
       "      <td>False</td>\n",
       "      <td>3</td>\n",
       "      <td>2.0</td>\n",
       "      <td>8</td>\n",
       "      <td>1</td>\n",
       "      <td>1</td>\n",
       "      <td>PA</td>\n",
       "      <td>8</td>\n",
       "      <td>Pittsburgh</td>\n",
       "    </tr>\n",
       "    <tr>\n",
       "      <th>99</th>\n",
       "      <td>Atria's Restaurant</td>\n",
       "      <td>American (New)</td>\n",
       "      <td>Sandwiches</td>\n",
       "      <td>True</td>\n",
       "      <td>69</td>\n",
       "      <td>3.0</td>\n",
       "      <td>8</td>\n",
       "      <td>1</td>\n",
       "      <td>1</td>\n",
       "      <td>PA</td>\n",
       "      <td>8</td>\n",
       "      <td>Pittsburgh</td>\n",
       "    </tr>\n",
       "  </tbody>\n",
       "</table>\n",
       "</div>"
      ],
      "text/plain": [
       "                                              name            category_0  \\\n",
       "95                             Aamco Transmissions           Auto Repair   \n",
       "96  Animal Rescue League Shelter & Wildlife Center       Animal Shelters   \n",
       "97                          Aracri's Greentree Inn               Italian   \n",
       "98                           Atch-Mont Real Estate  Real Estate Services   \n",
       "99                              Atria's Restaurant        American (New)   \n",
       "\n",
       "             category_1  take_out  review_count  stars  city_id  state_id  \\\n",
       "95           Automotive     False            21    4.5        8         1   \n",
       "96        Veterinarians     False            43    4.0        8         1   \n",
       "97       American (New)      True            15    3.5        8         1   \n",
       "98  Property Management     False             3    2.0        8         1   \n",
       "99           Sandwiches      True            69    3.0        8         1   \n",
       "\n",
       "    id_x state  id_y        city  \n",
       "95     1    PA     8  Pittsburgh  \n",
       "96     1    PA     8  Pittsburgh  \n",
       "97     1    PA     8  Pittsburgh  \n",
       "98     1    PA     8  Pittsburgh  \n",
       "99     1    PA     8  Pittsburgh  "
      ]
     },
     "execution_count": 3,
     "metadata": {},
     "output_type": "execute_result"
    }
   ],
   "source": [
    "xls = pd.ExcelFile('yelp.xlsx')\n",
    "df = xls.parse('yelp_data')\n",
    "df_city = xls.parse('cities')\n",
    "df_state = xls.parse('states')\n",
    "\n",
    "df = pd.merge(left = df, right = df_state, how = 'inner', left_on = 'state_id', right_on = 'id')\n",
    "df = pd.merge(left = df, right = df_city, how = 'inner', left_on = 'city_id', right_on = 'id')\n",
    "df_pitt = df[df[\"city\"] == \"Pittsburgh\"]\n",
    "df_pitt.head()"
   ]
  },
  {
   "cell_type": "code",
   "execution_count": 4,
   "id": "18341d64-1c15-42da-9d3e-3f4fe7e46840",
   "metadata": {},
   "outputs": [],
   "source": [
    "df_vegas = df[df[\"city\"] == \"Las Vegas\"]"
   ]
  },
  {
   "cell_type": "code",
   "execution_count": 5,
   "id": "757ef379-a1f2-41ac-9512-08fe46684455",
   "metadata": {},
   "outputs": [
    {
     "data": {
      "text/html": [
       "<div>\n",
       "<style scoped>\n",
       "    .dataframe tbody tr th:only-of-type {\n",
       "        vertical-align: middle;\n",
       "    }\n",
       "\n",
       "    .dataframe tbody tr th {\n",
       "        vertical-align: top;\n",
       "    }\n",
       "\n",
       "    .dataframe thead th {\n",
       "        text-align: right;\n",
       "    }\n",
       "</style>\n",
       "<table border=\"1\" class=\"dataframe\">\n",
       "  <thead>\n",
       "    <tr style=\"text-align: right;\">\n",
       "      <th></th>\n",
       "      <th>name</th>\n",
       "      <th>category_0</th>\n",
       "      <th>category_1</th>\n",
       "      <th>take_out</th>\n",
       "      <th>review_count</th>\n",
       "      <th>stars</th>\n",
       "      <th>city_id</th>\n",
       "      <th>state_id</th>\n",
       "      <th>id_x</th>\n",
       "      <th>state</th>\n",
       "      <th>id_y</th>\n",
       "      <th>city</th>\n",
       "    </tr>\n",
       "  </thead>\n",
       "  <tbody>\n",
       "    <tr>\n",
       "      <th>430</th>\n",
       "      <td>Reliable Tax Services</td>\n",
       "      <td>Financial Services</td>\n",
       "      <td>Accountants</td>\n",
       "      <td>False</td>\n",
       "      <td>3</td>\n",
       "      <td>4.5</td>\n",
       "      <td>12</td>\n",
       "      <td>2</td>\n",
       "      <td>2</td>\n",
       "      <td>NV</td>\n",
       "      <td>12</td>\n",
       "      <td>Las Vegas</td>\n",
       "    </tr>\n",
       "    <tr>\n",
       "      <th>431</th>\n",
       "      <td>Paradise Electro Stimulations</td>\n",
       "      <td>Shopping</td>\n",
       "      <td>Adult</td>\n",
       "      <td>False</td>\n",
       "      <td>4</td>\n",
       "      <td>4.5</td>\n",
       "      <td>12</td>\n",
       "      <td>2</td>\n",
       "      <td>2</td>\n",
       "      <td>NV</td>\n",
       "      <td>12</td>\n",
       "      <td>Las Vegas</td>\n",
       "    </tr>\n",
       "    <tr>\n",
       "      <th>432</th>\n",
       "      <td>The Studio</td>\n",
       "      <td>Shopping</td>\n",
       "      <td>Adult</td>\n",
       "      <td>False</td>\n",
       "      <td>7</td>\n",
       "      <td>5.0</td>\n",
       "      <td>12</td>\n",
       "      <td>2</td>\n",
       "      <td>2</td>\n",
       "      <td>NV</td>\n",
       "      <td>12</td>\n",
       "      <td>Las Vegas</td>\n",
       "    </tr>\n",
       "    <tr>\n",
       "      <th>433</th>\n",
       "      <td>Boomer's Bar</td>\n",
       "      <td>Bars</td>\n",
       "      <td>American (Traditional)</td>\n",
       "      <td>False</td>\n",
       "      <td>19</td>\n",
       "      <td>3.5</td>\n",
       "      <td>12</td>\n",
       "      <td>2</td>\n",
       "      <td>2</td>\n",
       "      <td>NV</td>\n",
       "      <td>12</td>\n",
       "      <td>Las Vegas</td>\n",
       "    </tr>\n",
       "    <tr>\n",
       "      <th>434</th>\n",
       "      <td>Omelet House</td>\n",
       "      <td>Breakfast &amp; Brunch</td>\n",
       "      <td>American (Traditional)</td>\n",
       "      <td>True</td>\n",
       "      <td>703</td>\n",
       "      <td>4.5</td>\n",
       "      <td>12</td>\n",
       "      <td>2</td>\n",
       "      <td>2</td>\n",
       "      <td>NV</td>\n",
       "      <td>12</td>\n",
       "      <td>Las Vegas</td>\n",
       "    </tr>\n",
       "  </tbody>\n",
       "</table>\n",
       "</div>"
      ],
      "text/plain": [
       "                              name          category_0  \\\n",
       "430          Reliable Tax Services  Financial Services   \n",
       "431  Paradise Electro Stimulations            Shopping   \n",
       "432                     The Studio            Shopping   \n",
       "433                   Boomer's Bar                Bars   \n",
       "434                   Omelet House  Breakfast & Brunch   \n",
       "\n",
       "                 category_1  take_out  review_count  stars  city_id  state_id  \\\n",
       "430             Accountants     False             3    4.5       12         2   \n",
       "431                   Adult     False             4    4.5       12         2   \n",
       "432                   Adult     False             7    5.0       12         2   \n",
       "433  American (Traditional)     False            19    3.5       12         2   \n",
       "434  American (Traditional)      True           703    4.5       12         2   \n",
       "\n",
       "     id_x state  id_y       city  \n",
       "430     2    NV    12  Las Vegas  \n",
       "431     2    NV    12  Las Vegas  \n",
       "432     2    NV    12  Las Vegas  \n",
       "433     2    NV    12  Las Vegas  \n",
       "434     2    NV    12  Las Vegas  "
      ]
     },
     "execution_count": 5,
     "metadata": {},
     "output_type": "execute_result"
    }
   ],
   "source": [
    "df_vegas.head()"
   ]
  },
  {
   "cell_type": "code",
   "execution_count": 6,
   "id": "44915627-ff8e-4ffc-8d4e-a4e040bfd318",
   "metadata": {},
   "outputs": [],
   "source": [
    "pitt_stars = df_pitt[\"stars\"]"
   ]
  },
  {
   "cell_type": "code",
   "execution_count": 7,
   "id": "df82d4ac-c7f3-49fd-ae7c-daa3c777aafb",
   "metadata": {},
   "outputs": [],
   "source": [
    "vegas_stars = df_vegas[\"stars\"]"
   ]
  },
  {
   "cell_type": "code",
   "execution_count": 8,
   "id": "9b4a98bb-cda4-4767-b2f7-fc890188e868",
   "metadata": {},
   "outputs": [
    {
     "data": {
      "image/png": "[encoded data removed]",
      "text/plain": [
       "<Figure size 640x480 with 1 Axes>"
      ]
     },
     "metadata": {},
     "output_type": "display_data"
    }
   ],
   "source": [
    "plt.hist(\n",
    "    pitt_stars,\n",
    "    alpha = 0.3,\n",
    "    color = \"red\",\n",
    "    label = \"pittsburg\",\n",
    "    bins = 'auto'\n",
    ")\n",
    "\n",
    "plt.hist(\n",
    "    vegas_stars,\n",
    "    alpha = 0.3,\n",
    "    color = \"yellow\",\n",
    "    label = \"vegas\",\n",
    "    bins = 'auto'\n",
    ")\n",
    "\n",
    "plt.xlabel(\"rating\")\n",
    "plt.ylabel(\"number of rating score\")\n",
    "plt.legend(loc = \"best\")\n",
    "plt.title(\"Review distribution\")\n",
    "plt.show()"
   ]
  },
  {
   "cell_type": "code",
   "execution_count": 9,
   "id": "608d90c3-8592-4d11-8c29-fae2b15d8a07",
   "metadata": {},
   "outputs": [
    {
     "data": {
      "text/plain": [
       "(array([[ 1.,  4., 10., 12.,  0., 26., 40., 40., 34., 26.],\n",
       "        [ 5.,  7., 10., 10.,  0., 19., 29., 18., 28.,  7.]]),\n",
       " array([1. , 1.4, 1.8, 2.2, 2.6, 3. , 3.4, 3.8, 4.2, 4.6, 5. ]),\n",
       " <a list of 2 BarContainer objects>)"
      ]
     },
     "execution_count": 9,
     "metadata": {},
     "output_type": "execute_result"
    },
    {
     "data": {
      "image/png": "[encoded data removed]",
      "text/plain": [
       "<Figure size 640x480 with 1 Axes>"
      ]
     },
     "metadata": {},
     "output_type": "display_data"
    }
   ],
   "source": [
    "plt.hist(\n",
    "    [pitt_stars,vegas_stars],\n",
    "    alpha = 0.3,\n",
    "    color = [\"red\",\"blue\"],\n",
    "    label = [\"Pittsburg\",\"Las Vegas\"],\n",
    "    bins = 'auto'\n",
    ")"
   ]
  },
  {
   "cell_type": "code",
   "execution_count": 10,
   "id": "7a8da1de-f362-4c27-afa5-6562456775be",
   "metadata": {},
   "outputs": [],
   "source": [
    "df_health = df[df[\"category_0\"] == \"Health & Medical\"]"
   ]
  },
  {
   "cell_type": "code",
   "execution_count": 11,
   "id": "d7f874f9-e381-492f-82a1-204b4cac1f83",
   "metadata": {},
   "outputs": [],
   "source": [
    "df_fast = df[df[\"category_0\"] == \"Fast Food\"]"
   ]
  },
  {
   "cell_type": "code",
   "execution_count": 12,
   "id": "5279f82e-cbee-4b36-970c-ff1aac7ca280",
   "metadata": {},
   "outputs": [],
   "source": [
    "df_bb = df[df[\"category_0\"] == \"Breakfast & Brunch\"]"
   ]
  },
  {
   "cell_type": "code",
   "execution_count": 20,
   "id": "b2a624de-dbc6-4325-888f-957eb3129f64",
   "metadata": {},
   "outputs": [
    {
     "data": {
      "image/png": "[encoded data removed]",
      "text/plain": [
       "<Figure size 640x480 with 1 Axes>"
      ]
     },
     "metadata": {},
     "output_type": "display_data"
    }
   ],
   "source": [
    "plt.scatter(\n",
    "    df_health[\"stars\"], df_health[\"review_count\"],\n",
    "    marker = 'x',\n",
    "    color = 'r',\n",
    "    alpha = 0.7,\n",
    "    label = \"Health & Medical\",\n",
    "    s = 124\n",
    ")\n",
    "\n",
    "plt.scatter(\n",
    "    df_fast[\"stars\"], df_fast[\"review_count\"],\n",
    "    marker = 'x',\n",
    "    color = 'g',\n",
    "    alpha = 0.7,\n",
    "    label = \"Fast Food\",\n",
    "    s = 124\n",
    ")\n",
    "\n",
    "plt.scatter(\n",
    "    df_bb[\"stars\"], df_bb[\"review_count\"],\n",
    "    marker = '^',\n",
    "    color = 'b',\n",
    "    alpha = 0.7,\n",
    "    label = \"Breakfast and Brunch\",\n",
    "    s = 124\n",
    ")\n",
    "\n",
    "plt.xlabel(\"Rating\")\n",
    "plt.ylabel(\"Review Count\")\n",
    "plt.legend(loc = \"upper left\")\n",
    "axes = plt.gca()\n",
    "axes.set_yscale('log')\n",
    "plt.show()"
   ]
  },
  {
   "cell_type": "code",
   "execution_count": null,
   "id": "79ac0f69-dfcb-4b83-b4bc-65bf0a84ebd1",
   "metadata": {},
   "outputs": [],
   "source": []
  }
 ],
 "metadata": {
  "kernelspec": {
   "display_name": "Python 3 (ipykernel)",
   "language": "python",
   "name": "python3"
  },
  "language_info": {
   "codemirror_mode": {
    "name": "ipython",
    "version": 3
   },
   "file_extension": ".py",
   "mimetype": "text/x-python",
   "name": "python",
   "nbconvert_exporter": "python",
   "pygments_lexer": "ipython3",
   "version": "3.10.12"
  }
 },
 "nbformat": 4,
 "nbformat_minor": 5
}
